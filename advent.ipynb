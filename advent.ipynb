{
  "nbformat": 4,
  "nbformat_minor": 0,
  "metadata": {
    "colab": {
      "provenance": [],
      "authorship_tag": "ABX9TyNUjmO/1LaDMDjA8+2n2V/q",
      "include_colab_link": true
    },
    "kernelspec": {
      "name": "python3",
      "display_name": "Python 3"
    },
    "language_info": {
      "name": "python"
    }
  },
  "cells": [
    {
      "cell_type": "markdown",
      "metadata": {
        "id": "view-in-github",
        "colab_type": "text"
      },
      "source": [
        "<a href=\"https://colab.research.google.com/github/c-mimms/advent/blob/main/advent.ipynb\" target=\"_parent\"><img src=\"https://colab.research.google.com/assets/colab-badge.svg\" alt=\"Open In Colab\"/></a>"
      ]
    },
    {
      "cell_type": "markdown",
      "source": [
        "The newly-improved calibration document consists of lines of text; each line originally contained a specific calibration value that the Elves now need to recover. On each line, the calibration value can be found by combining the first digit and the last digit (in that order) to form a single two-digit number.\n",
        "\n",
        "For example:\n",
        "\n",
        "```\n",
        "1abc2\n",
        "pqr3stu8vwx\n",
        "a1b2c3d4e5f\n",
        "treb7uchet\n",
        "```\n",
        "\n",
        "\n",
        "In this example, the calibration values of these four lines are 12, 38, 15, and 77. Adding these together produces 142.\n",
        "\n",
        "Consider your entire calibration document. What is the sum of all of the calibration values?"
      ],
      "metadata": {
        "id": "U495X8w8saA8"
      }
    },
    {
      "cell_type": "code",
      "execution_count": null,
      "metadata": {
        "colab": {
          "base_uri": "https://localhost:8080/"
        },
        "id": "QaZh526xqt9N",
        "outputId": "9d526b2c-3ecd-4c3d-d232-28258ffc3a0d"
      },
      "outputs": [
        {
          "output_type": "stream",
          "name": "stdout",
          "text": [
            "54630\n"
          ]
        }
      ],
      "source": [
        "with open(\"data1.txt\") as f:\n",
        "  codes = [line for line in f]\n",
        "sum = 0\n",
        "for line in codes:\n",
        "  first = 0\n",
        "  last = len(line) - 1\n",
        "  while first <= last:\n",
        "    if(line[first].isdigit()):\n",
        "      if(line[last].isdigit()):\n",
        "        sum += int(line[first] + line[last])\n",
        "        break\n",
        "      last-=1\n",
        "      continue\n",
        "    first+=1\n",
        "print(sum)\n"
      ]
    },
    {
      "cell_type": "markdown",
      "source": [
        "Part 2\n",
        "\n",
        "Your calculation isn't quite right. It looks like some of the digits are actually spelled out with letters: one, two, three, four, five, six, seven, eight, and nine also count as valid \"digits\".\n",
        "\n",
        "Equipped with this new information, you now need to find the real first and last digit on each line. For example:\n",
        "\n",
        "\n",
        "```\n",
        "two1nine\n",
        "eightwothree\n",
        "abcone2threexyz\n",
        "xtwone3four\n",
        "4nineeightseven2\n",
        "zoneight234\n",
        "7pqrstsixteen\n",
        "```\n",
        "\n",
        "In this example, the calibration values are 29, 83, 13, 24, 42, 14, and 76. Adding these together produces 281.\n",
        "\n",
        "What is the sum of all of the calibration values?"
      ],
      "metadata": {
        "id": "-1f-x7fkwBpj"
      }
    },
    {
      "cell_type": "code",
      "source": [
        "with open(\"data1.txt\") as f:\n",
        "  codes = [line for line in f]\n",
        "sum = 0\n",
        "validdigits = [\"one\", \"two\", \"three\", \"four\", \"five\", \"six\", \"seven\", \"eight\", \"nine\"]\n",
        "for line in codes:\n",
        "  first = 0\n",
        "  last = len(line) - 1\n",
        "  while first <= last:\n",
        "    firstdig = -1\n",
        "    lastdig = -1\n",
        "    if(firstdig < 0):\n",
        "      if(line[first].isdigit()):\n",
        "        firstdig = line[first]\n",
        "      [line[:first].find(word) for word in validdigits]\n",
        "      if(line[last].isdigit()):\n",
        "        sum += int(line[first] + line[last])\n",
        "        break\n",
        "      last-=1\n",
        "      continue\n",
        "    first+=1\n",
        "print(sum)"
      ],
      "metadata": {
        "id": "NUAxX3lcwlIz"
      },
      "execution_count": null,
      "outputs": []
    }
  ]
}